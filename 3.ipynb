{
 "cells": [
  {
   "cell_type": "code",
   "execution_count": null,
   "id": "cdbac987",
   "metadata": {},
   "outputs": [],
   "source": [
    "import numpy as np\n",
    "import pandas as pd\n",
    "import matplotlib.pyplot as plt\n",
    "import seaborn as sns\n",
    "from seaborn import load_dataset\n",
    "import warnings\n",
    "warnings.filterwarnings(\"ignore\")"
   ]
  },
  {
   "cell_type": "code",
   "execution_count": null,
   "id": "5ce077c8",
   "metadata": {},
   "outputs": [],
   "source": [
    "df = load_dataset('titanic')\n",
    "df"
   ]
  },
  {
   "cell_type": "code",
   "execution_count": null,
   "id": "08b5e831",
   "metadata": {},
   "outputs": [],
   "source": [
    "df.shape"
   ]
  },
  {
   "cell_type": "code",
   "execution_count": null,
   "id": "9f7804ee",
   "metadata": {},
   "outputs": [],
   "source": [
    "df.info()"
   ]
  },
  {
   "cell_type": "code",
   "execution_count": null,
   "id": "ef283104",
   "metadata": {},
   "outputs": [],
   "source": [
    "df.isnull().sum()"
   ]
  },
  {
   "cell_type": "code",
   "execution_count": null,
   "id": "54d61dab",
   "metadata": {},
   "outputs": [],
   "source": [
    "df['age'].fillna(df['age'].mean(),axis = 0,inplace = True)\n",
    "df.drop('deck',axis = 1,inplace = True)\n",
    "cols = ['embarked','embark_town']\n",
    "for col in cols:\n",
    "    df[col].fillna(df[col].mode()[0],inplace = True)"
   ]
  },
  {
   "cell_type": "code",
   "execution_count": null,
   "id": "995ef173",
   "metadata": {},
   "outputs": [],
   "source": [
    "df.isnull().sum()"
   ]
  },
  {
   "cell_type": "code",
   "execution_count": null,
   "id": "b315049e",
   "metadata": {},
   "outputs": [],
   "source": [
    "df.describe()"
   ]
  },
  {
   "cell_type": "code",
   "execution_count": null,
   "id": "c87a2c36",
   "metadata": {},
   "outputs": [],
   "source": [
    "grouped_df = df.groupby('sex')['fare'].agg(['mean',    \n",
    "                                            'median',  \n",
    "                                            'max', \n",
    "                                            'min', \n",
    "                                            'std',\n",
    "                                            'var',])   \n",
    "\n",
    "\n",
    "#NOTE : mean   -> Mean,\n",
    "#       median -> Median,\n",
    "#       max    -> Maximum value,\n",
    "#       min    -> Minimum value,\n",
    "#       std    -> Standard Value,\n",
    "#       var    -> Variance,"
   ]
  },
  {
   "cell_type": "code",
   "execution_count": null,
   "id": "aeae7881",
   "metadata": {},
   "outputs": [],
   "source": [
    "grouped_df"
   ]
  },
  {
   "cell_type": "code",
   "execution_count": null,
   "id": "13d1a121",
   "metadata": {},
   "outputs": [],
   "source": [
    "from seaborn import load_dataset"
   ]
  },
  {
   "cell_type": "code",
   "execution_count": null,
   "id": "dc082c37",
   "metadata": {},
   "outputs": [],
   "source": [
    "df_iris = load_dataset('iris')\n",
    "df_iris"
   ]
  },
  {
   "cell_type": "code",
   "execution_count": null,
   "id": "c7d45580",
   "metadata": {},
   "outputs": [],
   "source": [
    "df_iris.groupby('species').describe()"
   ]
  },
  {
   "cell_type": "code",
   "execution_count": null,
   "id": "ff3f4768",
   "metadata": {},
   "outputs": [],
   "source": [
    "df_iris['species'].unique()"
   ]
  },
  {
   "cell_type": "code",
   "execution_count": null,
   "id": "e529b126",
   "metadata": {},
   "outputs": [],
   "source": [
    "setosa_data = df_iris[df_iris['species'] == 'setosa']\n",
    "versicolor_data = df_iris[df_iris['species'] == 'versicolor']\n",
    "virginica_data = df_iris[df_iris['species'] == 'virginica']"
   ]
  },
  {
   "cell_type": "code",
   "execution_count": null,
   "id": "74296ec7",
   "metadata": {},
   "outputs": [],
   "source": [
    "setosa_data.describe()"
   ]
  },
  {
   "cell_type": "code",
   "execution_count": null,
   "id": "726f6a98",
   "metadata": {},
   "outputs": [],
   "source": [
    "versicolor_data.describe()"
   ]
  },
  {
   "cell_type": "code",
   "execution_count": null,
   "id": "a185455a",
   "metadata": {},
   "outputs": [],
   "source": [
    "virginica_data.describe()"
   ]
  },
  {
   "cell_type": "code",
   "execution_count": null,
   "id": "499eafc4",
   "metadata": {},
   "outputs": [],
   "source": []
  },
  {
   "cell_type": "code",
   "execution_count": null,
   "id": "6abf1735",
   "metadata": {},
   "outputs": [],
   "source": []
  },
  {
   "cell_type": "code",
   "execution_count": null,
   "id": "2743c03f",
   "metadata": {},
   "outputs": [],
   "source": []
  }
 ],
 "metadata": {
  "kernelspec": {
   "display_name": "Python 3 (ipykernel)",
   "language": "python",
   "name": "python3"
  },
  "language_info": {
   "codemirror_mode": {
    "name": "ipython",
    "version": 3
   },
   "file_extension": ".py",
   "mimetype": "text/x-python",
   "name": "python",
   "nbconvert_exporter": "python",
   "pygments_lexer": "ipython3",
   "version": "3.9.13"
  }
 },
 "nbformat": 4,
 "nbformat_minor": 5
}
