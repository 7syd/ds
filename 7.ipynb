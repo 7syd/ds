{
 "cells": [
  {
   "cell_type": "code",
   "execution_count": 3,
   "id": "3ce9c72b",
   "metadata": {},
   "outputs": [
    {
     "name": "stderr",
     "output_type": "stream",
     "text": [
      "D:\\PYFK\\lib\\site-packages\\scipy\\__init__.py:155: UserWarning: A NumPy version >=1.18.5 and <1.25.0 is required for this version of SciPy (detected version 1.26.4\n",
      "  warnings.warn(f\"A NumPy version >={np_minversion} and <{np_maxversion}\"\n"
     ]
    }
   ],
   "source": [
    "import pandas as pd\n",
    "from sklearn.feature_extraction.text import TfidfVectorizer\n",
    "from sklearn.metrics.pairwise import cosine_similarity\n",
    "from nltk.tokenize import word_tokenize\n",
    "from nltk.corpus import stopwords\n",
    "from nltk.stem import PorterStemmer, WordNetLemmatizer\n",
    "from nltk import pos_tag"
   ]
  },
  {
   "cell_type": "code",
   "execution_count": null,
   "id": "724c03b2",
   "metadata": {},
   "outputs": [],
   "source": [
    "sample_doc = \"Life is like a camera. Focus on what's important, capture the good times, develop from the negatives, and if things don't work out, take another shot.\""
   ]
  },
  {
   "cell_type": "code",
   "execution_count": null,
   "id": "ceca4b4c",
   "metadata": {},
   "outputs": [],
   "source": [
    "tokenized_words = word_tokenize(sample_doc)\n",
    "print(\"Original Doc/text :\\n\",sample_doc)\n",
    "print(\"\\n\\nTokenized Text :\\n\",tokenized_words)"
   ]
  },
  {
   "cell_type": "code",
   "execution_count": null,
   "id": "a8ee85da",
   "metadata": {},
   "outputs": [],
   "source": [
    "stop_words = stopwords.words('english')\n",
    "print(stop_words)"
   ]
  },
  {
   "cell_type": "code",
   "execution_count": null,
   "id": "2a282944",
   "metadata": {},
   "outputs": [],
   "source": [
    "cleaned_token = []\n",
    "for word in tokenized_words:\n",
    "    if word not in stop_words:\n",
    "        cleaned_token.append(word)\n",
    "        \n",
    "print(\"Tokenized sentence without stopword removal :\\n\",tokenized_words)\n",
    "print(\"\\n\\nTokenized sentence with stopword removal :\\n\",cleaned_token)\n"
   ]
  },
  {
   "cell_type": "code",
   "execution_count": null,
   "id": "dde9dbfc",
   "metadata": {},
   "outputs": [],
   "source": [
    "words = [cleaned_token.lower() for cleaned_token in cleaned_token if cleaned_token.isalpha()] \n",
    "print(words)stemmer = PorterStemmer()\n",
    "port_stemmer_output = [stemmer.stem(words) for words in words]\n",
    "print(port_stemmer_output)"
   ]
  },
  {
   "cell_type": "code",
   "execution_count": null,
   "id": "733c47f3",
   "metadata": {},
   "outputs": [],
   "source": [
    "lemmatizer = WordNetLemmatizer() \n",
    "lemmatizer_output = [lemmatizer.lemmatize(words) for words in words] \n",
    "print(lemmatizer_output)"
   ]
  },
  {
   "cell_type": "code",
   "execution_count": null,
   "id": "e7cc8b26",
   "metadata": {},
   "outputs": [],
   "source": [
    "tagged = pos_tag(cleaned_token)\n",
    "print(tagged)"
   ]
  },
  {
   "cell_type": "code",
   "execution_count": null,
   "id": "589c6b07",
   "metadata": {},
   "outputs": [],
   "source": [
    "doc = [\"The quick brown fox jumps over the lazy dog\",\n",
    "       \"The lazy cat sleeps on the brown rug\",\n",
    "       \"Brown bears are common in this area\",\n",
    "       \"The quick fox runs faster than the brown dog\",\n",
    "       \"The lazy dog lies down under the brown tree\"]"
   ]
  },
  {
   "cell_type": "code",
   "execution_count": null,
   "id": "28e76805",
   "metadata": {},
   "outputs": [],
   "source": [
    "vectorizer = TfidfVectorizer(analyzer = \"word\", norm = None, use_idf = True, smooth_idf = True)\n",
    "Mat = vectorizer.fit(doc)\n",
    "vocabulary = Mat.vocabulary_\n",
    "\n",
    "for word, number in vocabulary.items():\n",
    "    print(f\"{word}: {number}\")"
   ]
  },
  {
   "cell_type": "code",
   "execution_count": null,
   "id": "e2fab6fb",
   "metadata": {},
   "outputs": [],
   "source": [
    "tfidfMat = vectorizer.fit_transform(doc)\n",
    "print(tfidfMat)"
   ]
  },
  {
   "cell_type": "code",
   "execution_count": null,
   "id": "b8b1ace0",
   "metadata": {},
   "outputs": [],
   "source": [
    "feature_names = vectorizer.get_feature_names_out()\n",
    "print(feature_names)"
   ]
  },
  {
   "cell_type": "code",
   "execution_count": 6,
   "id": "a3bf89a7",
   "metadata": {},
   "outputs": [
    {
     "ename": "NameError",
     "evalue": "name 'y_pred' is not defined",
     "output_type": "error",
     "traceback": [
      "\u001b[1;31m---------------------------------------------------------------------------\u001b[0m",
      "\u001b[1;31mNameError\u001b[0m                                 Traceback (most recent call last)",
      "\u001b[1;32m~\\AppData\\Local\\Temp\\ipykernel_4304\\3562620839.py\u001b[0m in \u001b[0;36m<module>\u001b[1;34m\u001b[0m\n\u001b[1;32m----> 1\u001b[1;33m \u001b[0my_pred\u001b[0m\u001b[1;33m\u001b[0m\u001b[1;33m\u001b[0m\u001b[0m\n\u001b[0m",
      "\u001b[1;31mNameError\u001b[0m: name 'y_pred' is not defined"
     ]
    }
   ],
   "source": [
    "dense = tfidfMat.todense()\n",
    "denselist = dense.tolist()"
   ]
  },
  {
   "cell_type": "code",
   "execution_count": null,
   "id": "b33a5118",
   "metadata": {},
   "outputs": [],
   "source": [
    "dense = tfidfMat.todense()\n",
    "denselist = dense.tolist()"
   ]
  }
 ],
 "metadata": {
  "kernelspec": {
   "display_name": "Python 3 (ipykernel)",
   "language": "python",
   "name": "python3"
  },
  "language_info": {
   "codemirror_mode": {
    "name": "ipython",
    "version": 3
   },
   "file_extension": ".py",
   "mimetype": "text/x-python",
   "name": "python",
   "nbconvert_exporter": "python",
   "pygments_lexer": "ipython3",
   "version": "3.9.13"
  }
 },
 "nbformat": 4,
 "nbformat_minor": 5
}
