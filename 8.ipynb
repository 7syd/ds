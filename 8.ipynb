{
 "cells": [
  {
   "cell_type": "code",
   "execution_count": 3,
   "id": "3ce9c72b",
   "metadata": {},
   "outputs": [
    {
     "name": "stderr",
     "output_type": "stream",
     "text": [
      "D:\\PYFK\\lib\\site-packages\\scipy\\__init__.py:155: UserWarning: A NumPy version >=1.18.5 and <1.25.0 is required for this version of SciPy (detected version 1.26.4\n",
      "  warnings.warn(f\"A NumPy version >={np_minversion} and <{np_maxversion}\"\n"
     ]
    }
   ],
   "source": [
    "import pandas as pd\n",
    "import numpy as np\n",
    "import matplotlib.pyplot as plt\n",
    "import seaborn as sns\n",
    "from seaborn import load_dataset\n",
    "import warnings\n",
    "warnings.filterwarnings('ignore')"
   ]
  },
  {
   "cell_type": "code",
   "execution_count": null,
   "id": "8baf61a9",
   "metadata": {},
   "outputs": [],
   "source": [
    "df = load_dataset('titanic')\n",
    "df\n"
   ]
  },
  {
   "cell_type": "code",
   "execution_count": null,
   "id": "6295db54",
   "metadata": {},
   "outputs": [],
   "source": [
    "df.columns"
   ]
  },
  {
   "cell_type": "code",
   "execution_count": null,
   "id": "3a06113c",
   "metadata": {},
   "outputs": [],
   "source": [
    "df.info()"
   ]
  },
  {
   "cell_type": "code",
   "execution_count": null,
   "id": "efddfb1c",
   "metadata": {},
   "outputs": [],
   "source": [
    "df.describe()"
   ]
  },
  {
   "cell_type": "code",
   "execution_count": null,
   "id": "2d2b2be4",
   "metadata": {},
   "outputs": [],
   "source": [
    "df.isnull().sum()"
   ]
  },
  {
   "cell_type": "code",
   "execution_count": null,
   "id": "6de59549",
   "metadata": {},
   "outputs": [],
   "source": [
    "df['age'] = df['age'].fillna(np.mean(df['age']))\n",
    "df.drop(['deck'],axis = 1,inplace = True)\n",
    "df['embarked'] = df['embarked'].fillna(df['embarked'].mode()[0])\n",
    "df['embark_town'] = df['embark_town'].fillna(df['embark_town'].mode()[0])"
   ]
  },
  {
   "cell_type": "code",
   "execution_count": null,
   "id": "4d8fb68f",
   "metadata": {},
   "outputs": [],
   "source": [
    "df['age'] = df['age'].astype(int)"
   ]
  },
  {
   "cell_type": "code",
   "execution_count": null,
   "id": "422f3cbd",
   "metadata": {},
   "outputs": [],
   "source": [
    "df"
   ]
  },
  {
   "cell_type": "code",
   "execution_count": null,
   "id": "9e20121c",
   "metadata": {},
   "outputs": [],
   "source": [
    "sns.catplot(x =\"sex\", hue =\"survived\", kind =\"count\", data = df)\n"
   ]
  },
  {
   "cell_type": "code",
   "execution_count": null,
   "id": "d29314d2",
   "metadata": {},
   "outputs": [],
   "source": [
    "sns.violinplot(x =\"sex\", y =\"age\", hue =\"survived\",data = df, split = True)"
   ]
  },
  {
   "cell_type": "code",
   "execution_count": null,
   "id": "0bbab84b",
   "metadata": {},
   "outputs": [],
   "source": [
    "plt.figure(figsize=(15, 5))\n",
    "\n",
    "# Subplot 1\n",
    "plt.subplot(1, 3, 1)\n",
    "sns.countplot(df['survived'])\n",
    "plt.title('Survived')\n",
    "\n",
    "# Subplot 2\n",
    "plt.subplot(1, 3, 2)\n",
    "sns.countplot(df['pclass'])\n",
    "plt.title('Passenger class Count')\n",
    "\n",
    "# Subplot 3\n",
    "plt.subplot(1, 3, 3)\n",
    "sns.countplot(df['embarked'])\n",
    "plt.title('Embarked Count')"
   ]
  },
  {
   "cell_type": "code",
   "execution_count": null,
   "id": "58786e11",
   "metadata": {},
   "outputs": [],
   "source": [
    "plt.figure(figsize=(15, 5))\n",
    "\n",
    "# Subplot 1\n",
    "plt.subplot(1, 3, 1)\n",
    "sns.countplot(df['survived'])\n",
    "plt.title('Survived')\n",
    "\n",
    "# Subplot 2\n",
    "plt.subplot(1, 3, 2)\n",
    "sns.countplot(df['pclass'])\n",
    "plt.title('Passenger class Count')\n",
    "\n",
    "# Subplot 3\n",
    "plt.subplot(1, 3, 3)\n",
    "sns.countplot(df['embarked'])\n",
    "plt.title('Embarked Count')"
   ]
  },
  {
   "cell_type": "code",
   "execution_count": null,
   "id": "541b83c4",
   "metadata": {},
   "outputs": [],
   "source": [
    "\n",
    "sns.distplot(df['age'])"
   ]
  },
  {
   "cell_type": "code",
   "execution_count": 6,
   "id": "1a4336e0",
   "metadata": {},
   "outputs": [
    {
     "ename": "NameError",
     "evalue": "name 'y_pred' is not defined",
     "output_type": "error",
     "traceback": [
      "\u001b[1;31m---------------------------------------------------------------------------\u001b[0m",
      "\u001b[1;31mNameError\u001b[0m                                 Traceback (most recent call last)",
      "\u001b[1;32m~\\AppData\\Local\\Temp\\ipykernel_4304\\3562620839.py\u001b[0m in \u001b[0;36m<module>\u001b[1;34m\u001b[0m\n\u001b[1;32m----> 1\u001b[1;33m \u001b[0my_pred\u001b[0m\u001b[1;33m\u001b[0m\u001b[1;33m\u001b[0m\u001b[0m\n\u001b[0m",
      "\u001b[1;31mNameError\u001b[0m: name 'y_pred' is not defined"
     ]
    }
   ],
   "source": [
    "sns.jointplot(x = \"survived\", y = \"fare\", kind = \"scatter\", data = df)"
   ]
  },
  {
   "cell_type": "code",
   "execution_count": null,
   "id": "25597377",
   "metadata": {},
   "outputs": [],
   "source": [
    "plt.figure(figsize=(15, 10))\n",
    "sns.catplot(x='pclass', y='fare', data=df, kind='bar', palette='Set1')"
   ]
  },
  {
   "cell_type": "code",
   "execution_count": null,
   "id": "29d31f93",
   "metadata": {},
   "outputs": [],
   "source": [
    "plt.figure(figsize=(15, 10))\n",
    "sns.histplot(data=df, x='fare', bins=20, kde=True, color='red')\n",
    "plt.title('Distribution of Ticket Prices on Titanic')\n",
    "plt.xlabel('Fare')\n",
    "plt.ylabel('Frequency')\n",
    "plt.show()"
   ]
  },
  {
   "cell_type": "code",
   "execution_count": null,
   "id": "eceb3539",
   "metadata": {},
   "outputs": [],
   "source": []
  },
  {
   "cell_type": "code",
   "execution_count": null,
   "id": "90720fb3",
   "metadata": {},
   "outputs": [],
   "source": []
  },
  {
   "cell_type": "code",
   "execution_count": null,
   "id": "878b7212",
   "metadata": {},
   "outputs": [],
   "source": []
  },
  {
   "cell_type": "code",
   "execution_count": null,
   "id": "6a882ed0",
   "metadata": {},
   "outputs": [],
   "source": []
  }
 ],
 "metadata": {
  "kernelspec": {
   "display_name": "Python 3 (ipykernel)",
   "language": "python",
   "name": "python3"
  },
  "language_info": {
   "codemirror_mode": {
    "name": "ipython",
    "version": 3
   },
   "file_extension": ".py",
   "mimetype": "text/x-python",
   "name": "python",
   "nbconvert_exporter": "python",
   "pygments_lexer": "ipython3",
   "version": "3.9.13"
  }
 },
 "nbformat": 4,
 "nbformat_minor": 5
}
