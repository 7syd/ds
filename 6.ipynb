{
 "cells": [
  {
   "cell_type": "code",
   "execution_count": 3,
   "id": "3ce9c72b",
   "metadata": {},
   "outputs": [
    {
     "name": "stderr",
     "output_type": "stream",
     "text": [
      "D:\\PYFK\\lib\\site-packages\\scipy\\__init__.py:155: UserWarning: A NumPy version >=1.18.5 and <1.25.0 is required for this version of SciPy (detected version 1.26.4\n",
      "  warnings.warn(f\"A NumPy version >={np_minversion} and <{np_maxversion}\"\n"
     ]
    }
   ],
   "source": [
    "import numpy as np\n",
    "import pandas as pd\n",
    "import matplotlib.pyplot as plt\n",
    "import seaborn as sns\n",
    "import warnings\n",
    "warnings.filterwarnings(\"ignore\")\n"
   ]
  },
  {
   "cell_type": "code",
   "execution_count": null,
   "id": "eff73d02",
   "metadata": {},
   "outputs": [],
   "source": [
    "from seaborn import load_dataset\n",
    "\n",
    "df = load_dataset('iris')"
   ]
  },
  {
   "cell_type": "code",
   "execution_count": null,
   "id": "ad3a9ea9",
   "metadata": {},
   "outputs": [],
   "source": [
    "df"
   ]
  },
  {
   "cell_type": "code",
   "execution_count": null,
   "id": "a63a7d24",
   "metadata": {},
   "outputs": [],
   "source": [
    "df.shape"
   ]
  },
  {
   "cell_type": "code",
   "execution_count": null,
   "id": "18378638",
   "metadata": {},
   "outputs": [],
   "source": [
    "df.columns"
   ]
  },
  {
   "cell_type": "code",
   "execution_count": null,
   "id": "6409ffff",
   "metadata": {},
   "outputs": [],
   "source": [
    "df.info()"
   ]
  },
  {
   "cell_type": "code",
   "execution_count": null,
   "id": "4a99500d",
   "metadata": {},
   "outputs": [],
   "source": [
    "df.describe()"
   ]
  },
  {
   "cell_type": "code",
   "execution_count": null,
   "id": "90564722",
   "metadata": {},
   "outputs": [],
   "source": [
    "X = df.iloc[:, :-1].values\n",
    "y = df.iloc[:, -1].values"
   ]
  },
  {
   "cell_type": "code",
   "execution_count": null,
   "id": "49313675",
   "metadata": {},
   "outputs": [],
   "source": [
    "X"
   ]
  },
  {
   "cell_type": "code",
   "execution_count": null,
   "id": "8dc5d979",
   "metadata": {},
   "outputs": [],
   "source": [
    "y"
   ]
  },
  {
   "cell_type": "code",
   "execution_count": null,
   "id": "0b06e95f",
   "metadata": {},
   "outputs": [],
   "source": [
    "from sklearn.preprocessing import MinMaxScaler\n",
    "\n",
    "scalar = MinMaxScaler()\n",
    "X_scaled = scalar.fit_transform(X)\n",
    "X_scaled"
   ]
  },
  {
   "cell_type": "code",
   "execution_count": null,
   "id": "f274c789",
   "metadata": {},
   "outputs": [],
   "source": [
    "from sklearn.model_selection import train_test_split\n",
    "X_train,X_test,y_train,y_test = train_test_split(X_scaled,y,test_size=0.2,random_state=42)"
   ]
  },
  {
   "cell_type": "code",
   "execution_count": null,
   "id": "57b4b7b0",
   "metadata": {},
   "outputs": [],
   "source": [
    "from sklearn.naive_bayes import GaussianNB\n",
    "\n",
    "classifier = GaussianNB()\n",
    "classifier.fit(X_train,y_train)\n",
    "y_pred = classifier.predict(X_test)"
   ]
  },
  {
   "cell_type": "code",
   "execution_count": 6,
   "id": "b285a95d",
   "metadata": {},
   "outputs": [
    {
     "ename": "NameError",
     "evalue": "name 'y_pred' is not defined",
     "output_type": "error",
     "traceback": [
      "\u001b[1;31m---------------------------------------------------------------------------\u001b[0m",
      "\u001b[1;31mNameError\u001b[0m                                 Traceback (most recent call last)",
      "\u001b[1;32m~\\AppData\\Local\\Temp\\ipykernel_4304\\3562620839.py\u001b[0m in \u001b[0;36m<module>\u001b[1;34m\u001b[0m\n\u001b[1;32m----> 1\u001b[1;33m \u001b[0my_pred\u001b[0m\u001b[1;33m\u001b[0m\u001b[1;33m\u001b[0m\u001b[0m\n\u001b[0m",
      "\u001b[1;31mNameError\u001b[0m: name 'y_pred' is not defined"
     ]
    }
   ],
   "source": [
    "y_pred"
   ]
  },
  {
   "cell_type": "code",
   "execution_count": null,
   "id": "1498384f",
   "metadata": {},
   "outputs": [],
   "source": [
    "y_test"
   ]
  },
  {
   "cell_type": "code",
   "execution_count": null,
   "id": "4d05f1fd",
   "metadata": {},
   "outputs": [],
   "source": [
    "from sklearn.metrics import confusion_matrix,classification_report\n",
    "\n",
    "labels = ['setosa','versicolor','virginica']\n",
    "cm = confusion_matrix(y_test,y_pred,labels = labels)\n",
    "cm"
   ]
  },
  {
   "cell_type": "code",
   "execution_count": null,
   "id": "ace54e3b",
   "metadata": {},
   "outputs": [],
   "source": [
    "plt.figure(figsize=(15,8))\n",
    "sns.heatmap(cm,annot=True,cmap='coolwarm',\n",
    "            xticklabels=['Setosa','Versicolor','Virginica'],\n",
    "            yticklabels=['Setosa','Versicolor','Virginica'],)\n",
    "plt.ylabel('Prediction')\n",
    "plt.xlabel('Actual')\n",
    "plt.title(\"Confusion Matrix\")\n",
    "plt.show()"
   ]
  },
  {
   "cell_type": "code",
   "execution_count": null,
   "id": "4c75bb17",
   "metadata": {},
   "outputs": [],
   "source": [
    "report = classification_report(y_test,y_pred)\n",
    "print(f\"Classification report: \\n\\n {report}\")"
   ]
  },
  {
   "cell_type": "code",
   "execution_count": null,
   "id": "9c620e18",
   "metadata": {},
   "outputs": [],
   "source": [
    "tp = cm[0, 0]\n",
    "fn = cm[0, 1] + cm[0, 2]\n",
    "fp = cm[1, 0] + cm[2, 0]\n",
    "tn = cm[1, 1] + cm[1, 2] + cm[2, 1] + cm[2, 2]\n",
    "\n",
    "print(f\"Outcome Values:\\nTrue Positive : {tp} \\nFalse Negative : {fn} \\nFalse Positive : {fp} \\nTrue Negative : {tn}\")"
   ]
  },
  {
   "cell_type": "code",
   "execution_count": null,
   "id": "bd9cd576",
   "metadata": {},
   "outputs": [],
   "source": [
    "tp = cm[1, 1]\n",
    "fn = cm[1, 0] + cm[1, 2]\n",
    "fp = cm[0, 1] + cm[2, 1]\n",
    "tn = cm[0, 0] + cm[0, 2] + cm[2, 0] + cm[2, 2]\n",
    "\n",
    "print(f\"Outcome Values:\\nTrue Positive : {tp} \\nFalse Negative : {fn} \\nFalse Positive : {fp} \\nTrue Negative : {tn}\")"
   ]
  },
  {
   "cell_type": "code",
   "execution_count": null,
   "id": "2f795390",
   "metadata": {},
   "outputs": [],
   "source": [
    "tp = cm[2, 2]\n",
    "fn = cm[2, 0] + cm[2, 1]\n",
    "fp = cm[0, 2] + cm[1, 2]\n",
    "tn = cm[0, 0] + cm[0, 1] + cm[1, 0] + cm[1, 1]\n",
    "\n",
    "print(f\"Outcome Values:\\nTrue Positive : {tp} \\nFalse Negative : {fn} \\nFalse Positive : {fp} \\nTrue Negative : {tn}\")"
   ]
  },
  {
   "cell_type": "code",
   "execution_count": null,
   "id": "d994b2ae",
   "metadata": {},
   "outputs": [],
   "source": [
    "from sklearn.metrics import accuracy_score,precision_score,recall_score,f1_score\n",
    "\n",
    "print(\"Accuracy : \",accuracy_score(y_test,y_pred))\n",
    "print(\"Precision : \",precision_score(y_test,y_pred,labels = labels,pos_label=1,average = 'micro'))\n",
    "print(\"Recall : \",recall_score(y_test,y_pred,labels = labels,pos_label=1,average = 'micro'))\n",
    "print(\"F1-Score : \",f1_score(y_test,y_pred,labels = labels,pos_label=1,average = 'micro'))"
   ]
  },
  {
   "cell_type": "code",
   "execution_count": null,
   "id": "4a84d93e",
   "metadata": {},
   "outputs": [],
   "source": []
  },
  {
   "cell_type": "code",
   "execution_count": null,
   "id": "8ef041e4",
   "metadata": {},
   "outputs": [],
   "source": []
  }
 ],
 "metadata": {
  "kernelspec": {
   "display_name": "Python 3 (ipykernel)",
   "language": "python",
   "name": "python3"
  },
  "language_info": {
   "codemirror_mode": {
    "name": "ipython",
    "version": 3
   },
   "file_extension": ".py",
   "mimetype": "text/x-python",
   "name": "python",
   "nbconvert_exporter": "python",
   "pygments_lexer": "ipython3",
   "version": "3.9.13"
  }
 },
 "nbformat": 4,
 "nbformat_minor": 5
}
