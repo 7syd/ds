{
 "cells": [
  {
   "cell_type": "code",
   "execution_count": null,
   "id": "198ccdae",
   "metadata": {},
   "outputs": [],
   "source": [
    "import numpy as np\n",
    "import pandas as pd\n",
    "import matplotlib.pyplot as plt\n",
    "import seaborn as sns\n",
    "from seaborn import load_dataset\n",
    "import warnings\n",
    "warnings.filterwarnings('ignore')\n"
   ]
  },
  {
   "cell_type": "code",
   "execution_count": null,
   "id": "6d70a276",
   "metadata": {},
   "outputs": [],
   "source": [
    "df = load_dataset('iris')\n",
    "df"
   ]
  },
  {
   "cell_type": "code",
   "execution_count": null,
   "id": "d818fe98",
   "metadata": {},
   "outputs": [],
   "source": [
    "df.columns"
   ]
  },
  {
   "cell_type": "code",
   "execution_count": null,
   "id": "b931bf9e",
   "metadata": {},
   "outputs": [],
   "source": [
    "df.info()"
   ]
  },
  {
   "cell_type": "code",
   "execution_count": null,
   "id": "bb1f162e",
   "metadata": {},
   "outputs": [],
   "source": [
    "\n",
    "df.describe()"
   ]
  },
  {
   "cell_type": "code",
   "execution_count": null,
   "id": "0576b780",
   "metadata": {},
   "outputs": [],
   "source": [
    "\n",
    "df.describe(include = 'object')"
   ]
  },
  {
   "cell_type": "code",
   "execution_count": null,
   "id": "17d54bf2",
   "metadata": {},
   "outputs": [],
   "source": [
    "df.isnull().sum()"
   ]
  },
  {
   "cell_type": "code",
   "execution_count": null,
   "id": "3fae2e49",
   "metadata": {},
   "outputs": [],
   "source": [
    "print(\"The features in the dataset are as follows : \")\n",
    "print(\"1. Sepal length : \", df['sepal_length'].dtype)\n",
    "print(\"2. Sepal width  : \", df['sepal_width'].dtype)\n",
    "print(\"3. Petal length : \", df['petal_length'].dtype)\n",
    "print(\"4. Petal width  : \", df['petal_width'].dtype)\n",
    "print(\"5. Species      : \", df['species'].dtype)"
   ]
  },
  {
   "cell_type": "code",
   "execution_count": null,
   "id": "406a988b",
   "metadata": {},
   "outputs": [],
   "source": [
    "plt.figure(figsize=(15, 15))\n",
    "\n",
    "\n",
    "plt.subplot(2, 2, 1)\n",
    "sns.histplot(x = df['sepal_length'], kde=True, color= 'red')\n",
    "plt.title('Sepal Length')\n",
    "\n",
    "\n",
    "plt.subplot(2, 2, 2)\n",
    "sns.histplot(x = df['sepal_width'], kde=True, color= 'green')\n",
    "plt.title('Sepal Width')\n",
    "\n",
    "\n",
    "plt.subplot(2, 2, 3)\n",
    "sns.histplot(x = df['petal_length'], kde=True, color= 'yellow')\n",
    "plt.title('Petal Length')\n",
    "\n",
    "\n",
    "plt.subplot(2, 2, 4)\n",
    "sns.histplot(x = df['petal_width'], kde=True, color= 'orange')\n",
    "plt.title('Petal Width')"
   ]
  },
  {
   "cell_type": "code",
   "execution_count": null,
   "id": "837f0e62",
   "metadata": {},
   "outputs": [],
   "source": [
    "plt.figure(figsize=(15, 15))\n",
    "\n",
    "\n",
    "plt.subplot(2, 2, 1)\n",
    "sns.histplot(x = df['sepal_length'], kde=True, color= 'red')\n",
    "plt.title('Sepal Length')\n",
    "\n",
    "\n",
    "plt.subplot(2, 2, 2)\n",
    "sns.histplot(x = df['sepal_width'], kde=True, color= 'green')\n",
    "plt.title('Sepal Width')\n",
    "\n",
    "\n",
    "plt.subplot(2, 2, 3)\n",
    "sns.histplot(x = df['petal_length'], kde=True, color= 'yellow')\n",
    "plt.title('Petal Length')\n",
    "\n",
    "\n",
    "plt.subplot(2, 2, 4)\n",
    "sns.histplot(x = df['petal_width'], kde=True, color= 'orange')\n",
    "plt.title('Petal Width')"
   ]
  },
  {
   "cell_type": "code",
   "execution_count": null,
   "id": "ea17920f",
   "metadata": {},
   "outputs": [],
   "source": [
    "plt.figure(figsize=(15, 15))\n",
    "\n",
    "\n",
    "plt.subplot(2, 2, 1)\n",
    "sns.boxplot(x='sepal_length',y='species',data=df, palette = 'Set1')\n",
    "plt.title('Species wise Sepal Length')\n",
    "\n",
    "\n",
    "plt.subplot(2, 2, 2)\n",
    "sns.boxplot(x='sepal_width',y='species',data=df, palette = 'Set1')\n",
    "plt.title('Species wise Sepal Width')\n",
    "\n",
    "\n",
    "plt.subplot(2, 2, 3)\n",
    "sns.boxplot(x='petal_length',y='species',data=df, palette = 'Set1')\n",
    "plt.title('Species wise Petal Length')\n",
    "\n",
    "\n",
    "plt.subplot(2, 2, 4)\n",
    "sns.boxplot(x='petal_width',y='species',data=df, palette = 'Set1')\n",
    "plt.title('Species wise Petal Width')"
   ]
  },
  {
   "cell_type": "code",
   "execution_count": null,
   "id": "1f921058",
   "metadata": {},
   "outputs": [],
   "source": [
    "def count_outliers(series):\n",
    "    Q1 = series.quantile(0.25)\n",
    "    Q3 = series.quantile(0.75)\n",
    "    IQR = Q3 - Q1\n",
    "    lower_bound = Q1 - 1.5 * IQR\n",
    "    upper_bound = Q3 + 1.5 * IQR\n",
    "    return series[(series < lower_bound) | (series > upper_bound)].count()\n",
    "\n",
    "outliers_count = df.groupby('species').agg(lambda x: count_outliers(x.dropna()))\n",
    "\n",
    "print(\"Count of outliers for each species w.r.t feature:\")\n",
    "outliers_count\n"
   ]
  },
  {
   "cell_type": "code",
   "execution_count": null,
   "id": "59998ba1",
   "metadata": {},
   "outputs": [],
   "source": []
  },
  {
   "cell_type": "code",
   "execution_count": null,
   "id": "d283e6a7",
   "metadata": {},
   "outputs": [],
   "source": []
  },
  {
   "cell_type": "code",
   "execution_count": null,
   "id": "0d73f74c",
   "metadata": {},
   "outputs": [],
   "source": []
  },
  {
   "cell_type": "code",
   "execution_count": null,
   "id": "21517885",
   "metadata": {},
   "outputs": [],
   "source": []
  }
 ],
 "metadata": {
  "kernelspec": {
   "display_name": "Python 3 (ipykernel)",
   "language": "python",
   "name": "python3"
  },
  "language_info": {
   "codemirror_mode": {
    "name": "ipython",
    "version": 3
   },
   "file_extension": ".py",
   "mimetype": "text/x-python",
   "name": "python",
   "nbconvert_exporter": "python",
   "pygments_lexer": "ipython3",
   "version": "3.9.13"
  }
 },
 "nbformat": 4,
 "nbformat_minor": 5
}
