{
 "cells": [
  {
   "cell_type": "code",
   "execution_count": 3,
   "id": "3ce9c72b",
   "metadata": {},
   "outputs": [
    {
     "name": "stderr",
     "output_type": "stream",
     "text": [
      "D:\\PYFK\\lib\\site-packages\\scipy\\__init__.py:155: UserWarning: A NumPy version >=1.18.5 and <1.25.0 is required for this version of SciPy (detected version 1.26.4\n",
      "  warnings.warn(f\"A NumPy version >={np_minversion} and <{np_maxversion}\"\n"
     ]
    }
   ],
   "source": [
    "import numpy as np\n",
    "import pandas as pd\n",
    "import matplotlib.pyplot as plt\n",
    "import seaborn as sns\n",
    "import warnings\n",
    "warnings.filterwarnings(\"ignore\")\n"
   ]
  },
  {
   "cell_type": "code",
   "execution_count": null,
   "id": "eb9f36e8",
   "metadata": {},
   "outputs": [],
   "source": [
    "df = pd.read_csv('HousingData.csv')"
   ]
  },
  {
   "cell_type": "code",
   "execution_count": null,
   "id": "abdf67d5",
   "metadata": {},
   "outputs": [],
   "source": [
    "df"
   ]
  },
  {
   "cell_type": "code",
   "execution_count": null,
   "id": "0a494b45",
   "metadata": {},
   "outputs": [],
   "source": [
    "df.shape"
   ]
  },
  {
   "cell_type": "code",
   "execution_count": null,
   "id": "2bad66af",
   "metadata": {},
   "outputs": [],
   "source": [
    "df.info()"
   ]
  },
  {
   "cell_type": "code",
   "execution_count": null,
   "id": "773a808e",
   "metadata": {},
   "outputs": [],
   "source": [
    "df.dtypes"
   ]
  },
  {
   "cell_type": "code",
   "execution_count": null,
   "id": "fa544343",
   "metadata": {},
   "outputs": [],
   "source": [
    "df.describe()"
   ]
  },
  {
   "cell_type": "code",
   "execution_count": null,
   "id": "f0b1a201",
   "metadata": {},
   "outputs": [],
   "source": [
    "df.isnull().sum()"
   ]
  },
  {
   "cell_type": "code",
   "execution_count": null,
   "id": "a27a1ffd",
   "metadata": {},
   "outputs": [],
   "source": [
    "columns = ['CRIM','ZN','INDUS','AGE','LSTAT']\n",
    "for column in columns:\n",
    "    df.fillna(df[column].mean(),axis = 0,inplace = True)\n",
    "    \n",
    "df['CHAS'].fillna(0,inplace = True)"
   ]
  },
  {
   "cell_type": "code",
   "execution_count": null,
   "id": "aa89cd12",
   "metadata": {},
   "outputs": [],
   "source": [
    "df.isnull().sum()"
   ]
  },
  {
   "cell_type": "code",
   "execution_count": null,
   "id": "1b8a35e4",
   "metadata": {},
   "outputs": [],
   "source": [
    "fig, ax = plt.subplots(2, 7, figsize=(20, 10))\n",
    "idx = 0\n",
    "ax = ax.flatten()\n",
    "\n",
    "for col, value in df.items():\n",
    "    sns.boxplot(y=col, data=df, ax=ax[idx])\n",
    "    idx += 1\n",
    "plt.tight_layout(pad=0.5, w_pad=0.7, h_pad=5.0)"
   ]
  },
  {
   "cell_type": "code",
   "execution_count": null,
   "id": "8390f682",
   "metadata": {},
   "outputs": [],
   "source": [
    "for column, val in df.items():\n",
    "        q1 = val.quantile(0.25)\n",
    "        q3 = val.quantile(0.75)\n",
    "        iqr = q3 - q1\n",
    "        v_col = val[(val <= q1 - 1.5 * iqr) | (val >= q3 + 1.5 * iqr)]\n",
    "        perc = np.shape(v_col)[0] * 100.0 / np.shape(df)[0]\n",
    "        print(\"Column %s outliers = %.2f%%\" % (column, perc))"
   ]
  },
  {
   "cell_type": "code",
   "execution_count": null,
   "id": "9ae4064b",
   "metadata": {},
   "outputs": [],
   "source": [
    "fig, ax = plt.subplots(2, 7, figsize=(20, 10))\n",
    "idx = 0\n",
    "ax = ax.flatten()\n",
    "\n",
    "for col, value in df.items():\n",
    "    sns.distplot(value, ax=ax[idx])\n",
    "    idx += 1\n",
    "plt.tight_layout(pad=0.5, w_pad=0.7, h_pad=5.0)"
   ]
  },
  {
   "cell_type": "code",
   "execution_count": null,
   "id": "d3b8f5e1",
   "metadata": {},
   "outputs": [],
   "source": [
    "cols = ['CRIM','ZN','TAX','B']\n",
    "for col in cols:\n",
    "    minimum = min(df[col])\n",
    "    maximum = max(df[col])\n",
    "    df[col] = (df[col] - minimum) / (maximum-minimum)"
   ]
  },
  {
   "cell_type": "code",
   "execution_count": null,
   "id": "36ebda5d",
   "metadata": {},
   "outputs": [],
   "source": [
    "fig, ax = plt.subplots(2, 7, figsize=(20, 10))\n",
    "idx = 0\n",
    "ax = ax.flatten()\n",
    "\n",
    "for col, value in df.items():\n",
    "    sns.distplot(value, ax=ax[idx])\n",
    "    idx += 1\n",
    "plt.tight_layout(pad=0.5, w_pad=0.7, h_pad=5.0)"
   ]
  },
  {
   "cell_type": "code",
   "execution_count": null,
   "id": "00b88218",
   "metadata": {},
   "outputs": [],
   "source": [
    "from sklearn import preprocessing\n",
    "scalar = preprocessing.StandardScaler()\n",
    "\n",
    "scaled_cols = scalar.fit_transform(df[cols])\n",
    "scaled_cols = pd.DataFrame(scaled_cols,columns = cols)\n",
    "scaled_cols.head()"
   ]
  },
  {
   "cell_type": "code",
   "execution_count": null,
   "id": "99ce1647",
   "metadata": {},
   "outputs": [],
   "source": [
    "for col in cols:\n",
    "    df[col] = scaled_cols[col]"
   ]
  },
  {
   "cell_type": "code",
   "execution_count": null,
   "id": "56ff15cf",
   "metadata": {},
   "outputs": [],
   "source": [
    "fig, ax = plt.subplots(2, 7, figsize=(20, 10))\n",
    "idx = 0\n",
    "ax = ax.flatten()\n",
    "\n",
    "for col, value in df.items():\n",
    "    sns.distplot(value, ax=ax[idx])\n",
    "    idx += 1\n",
    "plt.tight_layout(pad=0.5, w_pad=0.7, h_pad=5.0)"
   ]
  },
  {
   "cell_type": "code",
   "execution_count": null,
   "id": "3ee7fd4b",
   "metadata": {},
   "outputs": [],
   "source": [
    "plt.figure(figsize=(20,10))\n",
    "\n",
    "corr = df.corr()\n",
    "sns.heatmap(corr,annot = True,cmap = 'inferno')"
   ]
  },
  {
   "cell_type": "code",
   "execution_count": null,
   "id": "7c2d6372",
   "metadata": {},
   "outputs": [],
   "source": [
    "plt.figure(figsize=(20,10))\n",
    "sns.regplot(y = df['MEDV'],x = df['LSTAT'])"
   ]
  },
  {
   "cell_type": "code",
   "execution_count": null,
   "id": "71d1c1a0",
   "metadata": {},
   "outputs": [],
   "source": [
    "plt.figure(figsize=(20,10))\n",
    "sns.regplot(y = df['MEDV'],x = df['RM'])"
   ]
  },
  {
   "cell_type": "code",
   "execution_count": null,
   "id": "0b801b2e",
   "metadata": {},
   "outputs": [],
   "source": [
    "X = df.drop(columns = ['MEDV','RAD'],axis = 1)\n",
    "y = df['MEDV']"
   ]
  },
  {
   "cell_type": "code",
   "execution_count": null,
   "id": "81790c2c",
   "metadata": {},
   "outputs": [],
   "source": [
    "from sklearn.model_selection import cross_val_score,train_test_split\n",
    "from sklearn.metrics import mean_squared_error\n",
    "\n",
    "def train(model,X,y):\n",
    "    x_train,x_test,y_train,y_test = train_test_split(X,y,random_state = 42)\n",
    "    model.fit(x_train,y_train)\n",
    "    \n",
    "    pred = model.predict(x_test)\n",
    "    \n",
    "    cv_score = cross_val_score(model,X,y,scoring = 'neg_mean_squared_error',cv = 5)\n",
    "    cv_score = np.abs(np.mean(cv_score))\n",
    "    \n",
    "    print(\"Model Report\")\n",
    "    print(\"MSE : \",mean_squared_error(y_test,pred))\n",
    "    print(\"CV Score : \",cv_score)\n",
    "    "
   ]
  },
  {
   "cell_type": "code",
   "execution_count": null,
   "id": "23164ca5",
   "metadata": {},
   "outputs": [],
   "source": [
    "from sklearn.linear_model import LinearRegression\n",
    "plt.figure(figsize=(10,5))\n",
    "model = LinearRegression()\n",
    "train(model,X,y)\n",
    "coef = pd.Series(model.coef_,X.columns).sort_values()\n",
    "coef.plot(kind = 'bar',title = 'Model Coefficients')"
   ]
  },
  {
   "cell_type": "code",
   "execution_count": null,
   "id": "2b6f837f",
   "metadata": {},
   "outputs": [],
   "source": []
  },
  {
   "cell_type": "code",
   "execution_count": null,
   "id": "7dedc7b4",
   "metadata": {},
   "outputs": [],
   "source": []
  },
  {
   "cell_type": "code",
   "execution_count": null,
   "id": "ddf0960b",
   "metadata": {},
   "outputs": [],
   "source": []
  }
 ],
 "metadata": {
  "kernelspec": {
   "display_name": "Python 3 (ipykernel)",
   "language": "python",
   "name": "python3"
  },
  "language_info": {
   "codemirror_mode": {
    "name": "ipython",
    "version": 3
   },
   "file_extension": ".py",
   "mimetype": "text/x-python",
   "name": "python",
   "nbconvert_exporter": "python",
   "pygments_lexer": "ipython3",
   "version": "3.9.13"
  }
 },
 "nbformat": 4,
 "nbformat_minor": 5
}
